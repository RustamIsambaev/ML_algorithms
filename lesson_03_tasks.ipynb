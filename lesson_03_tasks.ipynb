{
  "cells": [
    {
      "cell_type": "markdown",
      "metadata": {
        "id": "-h6E40fAWNJT"
      },
      "source": [
        "### Урок 3. Классификация. Логистическая регрессия"
      ]
    },
    {
      "cell_type": "code",
      "execution_count": 1,
      "metadata": {
        "collapsed": true,
        "id": "zhwkeWtb1O0w"
      },
      "outputs": [],
      "source": [
        "import numpy as np\n",
        "import warnings\n",
        "warnings.filterwarnings('ignore')"
      ]
    },
    {
      "cell_type": "code",
      "execution_count": 2,
      "metadata": {
        "collapsed": true,
        "id": "FeKFn2yb1To4"
      },
      "outputs": [],
      "source": [
        "X = np.array([[1, 1, 1, 1, 1, 1, 1, 1, 1, 1],\n",
        "              [1, 1, 2, 5, 3, 0, 5, 10, 1, 2],\n",
        "              [500, 700, 750, 600, 1450, 800, 1500, 2000, 450, 1000],\n",
        "              [1, 1, 2, 1, 2,  1, 3, 3, 1, 2]], dtype = np.float64)\n",
        "y = np.array([0, 0, 1, 0, 1, 0, 1, 0, 1, 1], dtype = np.float64)"
      ]
    },
    {
      "cell_type": "code",
      "execution_count": 3,
      "metadata": {
        "colab": {
          "base_uri": "https://localhost:8080/"
        },
        "id": "yXSj4nbxHsFd",
        "outputId": "2ec277d2-00fd-4ab9-e1f7-bdedbaa47294"
      },
      "outputs": [
        {
          "output_type": "execute_result",
          "data": {
            "text/plain": [
              "array([[1.00e+00, 1.00e+00, 1.00e+00, 1.00e+00, 1.00e+00, 1.00e+00,\n",
              "        1.00e+00, 1.00e+00, 1.00e+00, 1.00e+00],\n",
              "       [1.00e+00, 1.00e+00, 2.00e+00, 5.00e+00, 3.00e+00, 0.00e+00,\n",
              "        5.00e+00, 1.00e+01, 1.00e+00, 2.00e+00],\n",
              "       [5.00e+02, 7.00e+02, 7.50e+02, 6.00e+02, 1.45e+03, 8.00e+02,\n",
              "        1.50e+03, 2.00e+03, 4.50e+02, 1.00e+03],\n",
              "       [1.00e+00, 1.00e+00, 2.00e+00, 1.00e+00, 2.00e+00, 1.00e+00,\n",
              "        3.00e+00, 3.00e+00, 1.00e+00, 2.00e+00]])"
            ]
          },
          "metadata": {},
          "execution_count": 3
        }
      ],
      "source": [
        "X"
      ]
    },
    {
      "cell_type": "code",
      "execution_count": 4,
      "metadata": {
        "colab": {
          "base_uri": "https://localhost:8080/"
        },
        "id": "QU0A16vZHugZ",
        "outputId": "72cb5eda-0778-4d5e-8cd5-b1eb5192fcbb"
      },
      "outputs": [
        {
          "output_type": "execute_result",
          "data": {
            "text/plain": [
              "array([0., 0., 1., 0., 1., 0., 1., 0., 1., 1.])"
            ]
          },
          "metadata": {},
          "execution_count": 4
        }
      ],
      "source": [
        "y"
      ]
    },
    {
      "cell_type": "code",
      "execution_count": 5,
      "metadata": {
        "collapsed": true,
        "id": "M-aO1NTxOUfo"
      },
      "outputs": [],
      "source": [
        "def calc_std_fit(x):\n",
        "    for i in range(x.shape[0]):\n",
        "        if x[i].std() == 0:\n",
        "            x[i]= np.zeros(x[i].shape)\n",
        "        else:\n",
        "            x[i] = (x[i] - x[i].mean()) / x[i].std()\n",
        "    return x"
      ]
    },
    {
      "cell_type": "code",
      "execution_count": 6,
      "metadata": {
        "collapsed": true,
        "id": "EEF9rWPNDnss"
      },
      "outputs": [],
      "source": [
        "def sigmoid(z):\n",
        "    res = 1 / (1 + np.exp(-z))\n",
        "    return res"
      ]
    },
    {
      "cell_type": "code",
      "execution_count": 7,
      "metadata": {
        "collapsed": true,
        "id": "qtgUN3LW-UIq"
      },
      "outputs": [],
      "source": [
        "def eval_model(X, y, iterations, alpha=1e-4):\n",
        "    np.random.seed(42)\n",
        "    W = np.random.randn(X.shape[0])\n",
        "    n = X.shape[1]\n",
        "    err = 0\n",
        "    for i in range(1, iterations+1):\n",
        "        z = np.dot(W, X)\n",
        "        y_pred = sigmoid(z)\n",
        "        err = calc_logloss(y, y_pred)\n",
        "        W -= alpha * (1/n * np.dot((y_pred - y), X.T))\n",
        "#        if i % (iterations / 10) == 0:\n",
        "#            print(i, W, err)\n",
        "    return W, calc_logloss(y, y_pred)"
      ]
    },
    {
      "cell_type": "markdown",
      "metadata": {
        "id": "MW4rVurIWNKE"
      },
      "source": [
        "## Практическое задание"
      ]
    },
    {
      "cell_type": "markdown",
      "metadata": {
        "id": "OrKTLjzpWNKF"
      },
      "source": [
        "1. Измените функцию calc_logloss так, чтобы нули по возможности не попадали в np.log."
      ]
    },
    {
      "cell_type": "code",
      "execution_count": 8,
      "metadata": {
        "collapsed": true,
        "id": "qMR5pOA38dDw"
      },
      "outputs": [],
      "source": [
        "def calc_logloss(y, y_pred):\n",
        "    y_pred = y_pred.astype(np.float64)\n",
        "    y_pred[y_pred == 0.0 ] = 0.00000001\n",
        "    y_pred[y_pred == 1.0 ] = 0.99999999\n",
        "    err = - np.mean(y * np.log(y_pred) + (1.0 - y) * np.log(1.0 - y_pred))\n",
        "    err = np.sum(err)\n",
        "    return err"
      ]
    },
    {
      "cell_type": "markdown",
      "metadata": {
        "id": "3iVmEMhsN_gQ"
      },
      "source": [
        "2. Подберите аргументы функции eval_model для логистической регрессии таким образом, чтобы log loss был минимальным."
      ]
    },
    {
      "cell_type": "code",
      "source": [
        "np.random.seed(42)\n",
        "alphas = np.array([(i + 1) for i in range(10)])\n",
        "iters = np.array([(i + 1) * 1000 for i in range(10)])\n",
        "best_error = np.inf\n",
        "best_params = {}\n",
        "\n",
        "for iter in iters:\n",
        "    for alpha in alphas:\n",
        "        err = eval_model(calc_std_fit(X), y, iterations=iter, alpha=alpha)[1]\n",
        "        if err < best_error:\n",
        "            best_error = err\n",
        "            best_params = {'iter': iter, \n",
        "                           'alpha': alpha}\n",
        "\n",
        "print('оптимальная ошибка ', best_error)\n",
        "print('оптимальные параметры ', best_params)"
      ],
      "metadata": {
        "colab": {
          "base_uri": "https://localhost:8080/"
        },
        "id": "ZN9xFWBWaPBS",
        "outputId": "37e40813-99e9-4438-ffd5-1bf41e17ef7d"
      },
      "execution_count": 9,
      "outputs": [
        {
          "output_type": "stream",
          "name": "stdout",
          "text": [
            "оптимальная ошибка  0.07921746104141006\n",
            "оптимальные параметры  {'iter': 10000, 'alpha': 10}\n"
          ]
        }
      ]
    },
    {
      "cell_type": "markdown",
      "metadata": {
        "id": "ilMMAQ5zaKqc"
      },
      "source": [
        "3. Создайте функцию calc_pred_proba, возвращающую предсказанную вероятность класса 1. На вход подаётся W, который уже посчитан функцией eval_model, и X, на выходе — массив y_pred_proba."
      ]
    },
    {
      "cell_type": "code",
      "execution_count": 10,
      "metadata": {
        "collapsed": true,
        "id": "jp0AQlnkRBWC"
      },
      "outputs": [],
      "source": [
        "def calc_pred_proba(W, X):\n",
        "    X_st = calc_std_fit(X)\n",
        "    z = np.dot(W, X_st)\n",
        "    y_pred_proba = sigmoid(z)\n",
        "    return y_pred_proba"
      ]
    },
    {
      "cell_type": "code",
      "source": [
        "np.round(calc_pred_proba(W=eval_model(X, y, iterations=best_params['iter'], alpha=best_params['alpha'])[0], X=X), 2)"
      ],
      "metadata": {
        "colab": {
          "base_uri": "https://localhost:8080/"
        },
        "id": "4DqBtAlU3aeQ",
        "outputId": "445f7968-6b19-47f0-e73b-b41531f9d04d"
      },
      "execution_count": 11,
      "outputs": [
        {
          "output_type": "execute_result",
          "data": {
            "text/plain": [
              "array([0.05, 0.  , 1.  , 0.  , 0.79, 0.16, 1.  , 0.  , 0.71, 1.  ])"
            ]
          },
          "metadata": {},
          "execution_count": 11
        }
      ]
    },
    {
      "cell_type": "markdown",
      "metadata": {
        "id": "DS9cWDydxAmC"
      },
      "source": [
        "4. Создайте функцию calc_pred, возвращающую предсказанный класс. На вход подаётся W, который уже посчитан функцией eval_model, и X, на выходе — массив y_pred."
      ]
    },
    {
      "cell_type": "code",
      "source": [
        "def calc_pred (W, X):\n",
        "    y_pred_proba = calc_pred_proba(W=W, X=X)\n",
        "    y_pred = np.where(y_pred_proba <= 0.5, 0, 1)\n",
        "    return y_pred"
      ],
      "metadata": {
        "id": "BvrLHCOZ4YV7"
      },
      "execution_count": 12,
      "outputs": []
    },
    {
      "cell_type": "code",
      "source": [
        "y_pred = calc_pred (W=eval_model(X, y, iterations=best_params['iter'], alpha=best_params['alpha'])[0], X=X)\n",
        "y_pred"
      ],
      "metadata": {
        "colab": {
          "base_uri": "https://localhost:8080/"
        },
        "id": "q5Ag3T5l6RTc",
        "outputId": "e08cbe2b-7962-4cff-9142-a8546de36472"
      },
      "execution_count": 13,
      "outputs": [
        {
          "output_type": "execute_result",
          "data": {
            "text/plain": [
              "array([0, 0, 1, 0, 1, 0, 1, 0, 1, 1])"
            ]
          },
          "metadata": {},
          "execution_count": 13
        }
      ]
    },
    {
      "cell_type": "markdown",
      "metadata": {
        "id": "kwbUqpG84Af1"
      },
      "source": [
        "5. Посчитайте Accuracy, матрицу ошибок, точность и полноту, а также F1 score."
      ]
    },
    {
      "cell_type": "code",
      "source": [
        "def accuracy(y, y_pred):\n",
        "    accuracy = np.mean(y == y_pred)\n",
        "    return accuracy"
      ],
      "metadata": {
        "id": "9ou1X2g67Qu4"
      },
      "execution_count": 14,
      "outputs": []
    },
    {
      "cell_type": "code",
      "source": [
        "acc = accuracy(y, y_pred)\n",
        "acc"
      ],
      "metadata": {
        "colab": {
          "base_uri": "https://localhost:8080/"
        },
        "id": "mU3U25Wo7QfK",
        "outputId": "bd391175-13b9-4e7d-c34a-2ca5c17b7a29"
      },
      "execution_count": 15,
      "outputs": [
        {
          "output_type": "execute_result",
          "data": {
            "text/plain": [
              "1.0"
            ]
          },
          "metadata": {},
          "execution_count": 15
        }
      ]
    },
    {
      "cell_type": "code",
      "source": [
        "def confusion_mx(y, y_pred):\n",
        "    conf_mx = np.zeros((2, 2))\n",
        "    for i in range(len(y)): \n",
        "        if y[i] == y_pred[i] == 1: # TP\n",
        "            conf_mx[0][0] += 1\n",
        "        elif y[i] == y_pred[i] == 0: # TN\n",
        "            conf_mx[1][1] += 1\n",
        "        elif y[i] != y_pred[i] and y[i] == 1: # FN\n",
        "            conf_mx[1][0] += 1\n",
        "        elif y[i] != y_pred[i] and y[i] == 0: # FP\n",
        "            conf_mx[0][1] += 1\n",
        "    return conf_mx"
      ],
      "metadata": {
        "id": "gvJbUC1R8K2c"
      },
      "execution_count": 16,
      "outputs": []
    },
    {
      "cell_type": "code",
      "source": [
        "conf_mx = confusion_mx(y, y_pred)\n",
        "conf_mx"
      ],
      "metadata": {
        "colab": {
          "base_uri": "https://localhost:8080/"
        },
        "id": "oI04GnKS8nwj",
        "outputId": "37f4440e-9784-4ed8-acbc-05eefdada30a"
      },
      "execution_count": 17,
      "outputs": [
        {
          "output_type": "execute_result",
          "data": {
            "text/plain": [
              "array([[5., 0.],\n",
              "       [0., 5.]])"
            ]
          },
          "metadata": {},
          "execution_count": 17
        }
      ]
    },
    {
      "cell_type": "code",
      "source": [
        "def precision_recall(y, y_pred):\n",
        "    res = {}\n",
        "    conf_mx = confusion_mx(y, y_pred)\n",
        "    TP = conf_mx[0][0]\n",
        "    TN = conf_mx[1][1]\n",
        "    FP = conf_mx[0][1]\n",
        "    FN = conf_mx[1][0]\n",
        "    res['precision'] = TP / (TP + FP)\n",
        "    res['recall'] = TP / (TP + FN)\n",
        "    return res"
      ],
      "metadata": {
        "id": "zotpwXlM9CuD"
      },
      "execution_count": 18,
      "outputs": []
    },
    {
      "cell_type": "code",
      "source": [
        "precision_recall(y, y_pred)"
      ],
      "metadata": {
        "colab": {
          "base_uri": "https://localhost:8080/"
        },
        "id": "HeKJpUUk9CfO",
        "outputId": "cea48600-0a30-4a7d-de44-5c00ba427362"
      },
      "execution_count": 19,
      "outputs": [
        {
          "output_type": "execute_result",
          "data": {
            "text/plain": [
              "{'precision': 1.0, 'recall': 1.0}"
            ]
          },
          "metadata": {},
          "execution_count": 19
        }
      ]
    },
    {
      "cell_type": "code",
      "source": [
        "def f_one_score(y, y_pred):\n",
        "    return 2 * precision_recall(y, y_pred)['precision'] * precision_recall(y, y_pred)['recall'] / (precision_recall(y, y_pred)['precision'] + precision_recall(y, y_pred)['recall'])"
      ],
      "metadata": {
        "id": "gn9it-t-9CMO"
      },
      "execution_count": 20,
      "outputs": []
    },
    {
      "cell_type": "code",
      "source": [
        "f_one_score(y, y_pred)"
      ],
      "metadata": {
        "colab": {
          "base_uri": "https://localhost:8080/"
        },
        "id": "DDub5cmP_tHN",
        "outputId": "5e223818-4e41-4fd4-bc87-475f8bf2bc2f"
      },
      "execution_count": 21,
      "outputs": [
        {
          "output_type": "execute_result",
          "data": {
            "text/plain": [
              "1.0"
            ]
          },
          "metadata": {},
          "execution_count": 21
        }
      ]
    },
    {
      "cell_type": "markdown",
      "metadata": {
        "id": "WL2Q7y6c4CVo"
      },
      "source": [
        "6. Могла ли модель переобучиться? Почему?"
      ]
    },
    {
      "cell_type": "markdown",
      "source": [
        "Наша модель не могла переобучиться, так как является простой: в ней к существующим признакам не добавлялись новые их перемноженные комбинации или возведенные в степень - т.е. границей, которая разделяет (классифицирует) объекты, является обычной прямой линией (без изгибов)"
      ],
      "metadata": {
        "id": "F7gopBJcAPnF"
      }
    }
  ],
  "metadata": {
    "colab": {
      "provenance": []
    },
    "kernelspec": {
      "display_name": "Python 3",
      "language": "python",
      "name": "python3"
    },
    "language_info": {
      "codemirror_mode": {
        "name": "ipython",
        "version": 3
      },
      "file_extension": ".py",
      "mimetype": "text/x-python",
      "name": "python",
      "nbconvert_exporter": "python",
      "pygments_lexer": "ipython3",
      "version": "3.7.6"
    }
  },
  "nbformat": 4,
  "nbformat_minor": 0
}